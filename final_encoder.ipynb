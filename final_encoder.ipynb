{
 "cells": [
  {
   "attachments": {},
   "cell_type": "markdown",
   "metadata": {},
   "source": [
    "***ENCODER-DECODER***"
   ]
  },
  {
   "attachments": {},
   "cell_type": "markdown",
   "metadata": {},
   "source": [
    "BY Lucifer@17"
   ]
  },
  {
   "cell_type": "code",
   "execution_count": 2,
   "metadata": {},
   "outputs": [],
   "source": [
    "def int_to_binary(num,form):\n",
    "    \n",
    "    n=num\n",
    "    binary_number = \"\"\n",
    "    if n==0:\n",
    "        binary_number=\"0\"\n",
    "        \n",
    "    while n > 0:\n",
    "        remainder = n % 2\n",
    "        binary_number = str(remainder) + binary_number\n",
    "        n = n // 2\n",
    "    \n",
    "    # Adding padding zeros if needed\n",
    "    padding = len(binary_number) % form\n",
    "    if padding > 0:\n",
    "        binary_number = \"0\"*(form-padding) + binary_number\n",
    "    \n",
    "    return binary_number\n"
   ]
  },
  {
   "cell_type": "code",
   "execution_count": 3,
   "metadata": {},
   "outputs": [],
   "source": [
    "# Define a function to convert binary to decimal\n",
    "def binary_to_int(binary):\n",
    "    decimal = 0\n",
    "    power = len(binary) - 1\n",
    "    for bit in binary:\n",
    "        decimal += int(bit) * 2**power\n",
    "        power -= 1\n",
    "    return decimal"
   ]
  },
  {
   "cell_type": "code",
   "execution_count": 4,
   "metadata": {},
   "outputs": [],
   "source": [
    "def char_to_ascii(string):\n",
    "\n",
    "    ASCII_dict = {'\\x00': 0, '\\x01': 1, '\\x02': 2, '\\x03': 3, '\\x04': 4, '\\x05': 5, '\\x06': 6, '\\x07': 7, '\\x08': 8, '\\t': 9, '\\n': 10, '\\x0b': 11, '\\x0c': 12, '\\r': 13, '\\x0e': 14, '\\x0f': 15, '\\x10': 16, '\\x11': 17, '\\x12': 18, '\\x13': 19, '\\x14': 20, '\\x15': 21, '\\x16': 22, '\\x17': 23, '\\x18': 24, '\\x19': 25, '\\x1a': 26, '\\x1b': 27, '\\x1c': 28, '\\x1d': 29, '\\x1e': 30, '\\x1f': 31, ' ': 32, '!': 33, '\"': 34, '#': 35, '$': 36, '%': 37, '&': 38, \"'\": 39, '(': 40, ')': 41, '*': 42, '+': 43, ',': 44, '-': 45, '.': 46, '/': 47, '0': 48, '1': 49, '2': 50, '3': 51, '4': 52, '5': 53, '6': 54, '7': 55, '8': 56, '9': 57, ':': 58, ';': 59, '<': 60, '=': 61, '>': 62, '?': 63, '@': 64, 'A': 65, 'B': 66, 'C': 67, 'D': 68, 'E': 69, 'F': 70, 'G': 71, 'H': 72, 'I': 73, 'J': 74, 'K': 75, 'L': 76, 'M': 77, 'N': 78, 'O': 79, 'P': 80, 'Q': 81, 'R': 82, 'S': 83, 'T': 84, 'U': 85, 'V': 86, 'W': 87, 'X': 88, 'Y': 89, 'Z': 90, '[': 91, '\\\\': 92, ']': 93, '^': 94, '_': 95, '`': 96, 'a': 97, 'b': 98, 'c': 99, 'd': 100, 'e': 101, 'f': 102, 'g': 103, 'h': 104, 'i': 105, 'j': 106, 'k': 107, 'l': 108, 'm': 109, 'n': 110, 'o': 111, 'p': 112, 'q': 113, 'r': 114, 's': 115, 't': 116, 'u': 117, 'v': 118, 'w': 119, 'x': 120, 'y': 121, 'z': 122, '{': 123, '|': 124, '}': 125, '~': 126, '\\x7f': 127}\n",
    "    ascii = \"\"\n",
    "    for c in string:\n",
    "        ascii += str(ASCII_dict[c])\n",
    "    return ascii"
   ]
  },
  {
   "cell_type": "code",
   "execution_count": 5,
   "metadata": {},
   "outputs": [],
   "source": [
    "def ascii_to_char(ascii):\n",
    "    \n",
    "    ASCII_dict = {0: '\\x00', 1: '\\x01', 2: '\\x02', 3: '\\x03', 4: '\\x04', 5: '\\x05', 6: '\\x06', 7: '\\x07', 8: '\\x08', 9: '\\t', 10: '\\n', 11: '\\x0b', 12: '\\x0c', 13: '\\r', 14: '\\x0e', 15: '\\x0f', 16: '\\x10', 17: '\\x11', 18: '\\x12', 19: '\\x13', 20: '\\x14', 21: '\\x15', 22: '\\x16', 23: '\\x17', 24: '\\x18', 25: '\\x19', 26: '\\x1a', 27: '\\x1b', 28: '\\x1c', 29: '\\x1d', 30: '\\x1e', 31: '\\x1f', 32: ' ', 33: '!', 34: '\"', 35: '#', 36: '$', 37: '%', 38: '&', 39: \"'\", 40: '(', 41: ')', 42: '*', 43: '+', 44: ',', 45: '-', 46: '.', 47: '/', 48: '0', 49: '1', 50: '2', 51: '3', 52: '4', 53: '5', 54: '6', 55: '7', 56: '8', 57: '9', 58: ':', 59: ';', 60: '<', 61: '=', 62: '>', 63: '?', 64: '@', 65: 'A', 66: 'B', 67: 'C', 68: 'D', 69: 'E', 70: 'F', 71: 'G', 72: 'H', 73: 'I', 74: 'J', 75: 'K', 76: 'L', 77: 'M', 78: 'N', 79: 'O', 80: 'P', 81: 'Q', 82: 'R', 83: 'S', 84: 'T', 85: 'U', 86: 'V', 87: 'W', 88: 'X', 89: 'Y', 90: 'Z', 91: '[', 92: '\\\\', 93: ']', 94: '^', 95: '_', 96: '`', 97: 'a', 98: 'b', 99: 'c', 100: 'd', 101: 'e', 102: 'f', 103: 'g', 104: 'h', 105: 'i', 106: 'j', 107: 'k', 108: 'l', 109: 'm', 110: 'n', 111: 'o', 112: 'p', 113: 'q', 114: 'r', 115: 's', 116: 't', 117: 'u', 118: 'v', 119: 'w', 120: 'x', 121: 'y', 122: 'z', 123: '{', 124: '|', 125: '}', 126: '~', 127: '\\x7f'}\n",
    "    char = ASCII_dict[ascii]\n",
    "    return char"
   ]
  },
  {
   "cell_type": "code",
   "execution_count": 6,
   "metadata": {},
   "outputs": [],
   "source": [
    "def encode_base64(st):\n",
    "    # Defining the base64 character table\n",
    "    BASE64 = \"ABCDEFGHIJKLMNOPQRSTUVWXYZabcdefghijklmnopqrstuvwxyz0123456789+/\"\n",
    "\n",
    "    # Define the string to encode\n",
    "    string = st\n",
    "\n",
    "    # Converting string to binary\n",
    "    bin_eq = \"\".join(int_to_binary(int(char_to_ascii(c)) ,8) for c in string)\n",
    "    \n",
    "\n",
    "    # Add extra trailing zeros to make length of the binary a multiple of 6\n",
    "    num = len(bin_eq) % 6\n",
    "    if num>0:\n",
    "        bin_eq += \"0\" * (6 - num)\n",
    "\n",
    "    # Convert the binary string into base64\n",
    "    base64=''.join(BASE64[int(bin_eq[i:i+6],2)] for i in range(0, len(bin_eq), 6))\n",
    "\n",
    "    \n",
    "    # Add padding characters if neccessary\n",
    "    padding = len(base64) % 4\n",
    "    if padding > 0:\n",
    "        base64 += \"=\" * (4 - padding)\n",
    "\n",
    "    # Return the base64 encoded string\n",
    "    return base64"
   ]
  },
  {
   "cell_type": "code",
   "execution_count": 7,
   "metadata": {},
   "outputs": [],
   "source": [
    "def decode_base64(string):\n",
    "    # Defining the base64 character table\n",
    "    BASE64 = \"ABCDEFGHIJKLMNOPQRSTUVWXYZabcdefghijklmnopqrstuvwxyz0123456789+/\"\n",
    "\n",
    "    base64 = string\n",
    "\n",
    "    # Converting Base64 to binary\n",
    "    binary = \"\"\n",
    "    padding = 0\n",
    "    for c in base64:\n",
    "        if c == \"=\":\n",
    "            \n",
    "            padding += 1\n",
    "        else:\n",
    "            binary += int_to_binary(BASE64.index(c), 6)\n",
    "            \n",
    "\n",
    "    # Removing padding bits\n",
    "    if padding > 0:\n",
    "        binary = binary[:-padding * 2]\n",
    "    \n",
    "  \n",
    "\n",
    "    # Converting binary to text\n",
    "    text = \"\".join(ascii_to_char(binary_to_int(binary[i:i+8])) for i in range(0, len(binary), 8))\n",
    "    \n",
    "    return text"
   ]
  },
  {
   "cell_type": "code",
   "execution_count": 8,
   "metadata": {},
   "outputs": [],
   "source": [
    "def encode_hex(string):\n",
    "    HEX = \"0123456789abcdef\"\n",
    "\n",
    "    \n",
    "\n",
    "    def dec_to_hex(decimal_num):\n",
    "\n",
    "    \n",
    "        hexadecimal = \"\"\n",
    "        while decimal_num > 0:\n",
    "            remainder = decimal_num % 16\n",
    "            hexadecimal = HEX[remainder] + hexadecimal\n",
    "            decimal_num //= 16\n",
    "        return hexadecimal\n",
    "\n",
    "    hex_st = \"\".join(dec_to_hex(int(char_to_ascii(c))) for c in string)\n",
    "\n",
    "    return hex_st"
   ]
  },
  {
   "cell_type": "code",
   "execution_count": 9,
   "metadata": {},
   "outputs": [],
   "source": [
    "def decode_hex(hex_str):\n",
    "    HEX = \"0123456789abcdef\"\n",
    "    # Removing any spaces in the given string\n",
    "    hex_str = hex_str.replace(\" \", \"\")\n",
    "    \n",
    "    def hex_to_dec(hex_str):\n",
    "        decimal = 0\n",
    "        hex_str = hex_str.lower()\n",
    "        for digit in hex_str:\n",
    "            if digit in HEX:\n",
    "                decimal = decimal*16 + HEX.index(digit)\n",
    "            else:\n",
    "                raise ValueError(f\"Invalid hexadecimal digit: {digit}\")\n",
    "        return decimal\n",
    "    string=\"\"\n",
    "    for i in range(0, len(hex_str), 2):\n",
    " \n",
    "        # extract two characters from hex string\n",
    "        part = hex_str[i : i + 2]\n",
    " \n",
    "        # change it into base 16 and\n",
    "        # typecast as the character\n",
    "        ch = ascii_to_char(hex_to_dec(part))\n",
    " \n",
    "        # add this char to final ASCII string\n",
    "        string += ch\n",
    "     \n",
    "    return string\n"
   ]
  },
  {
   "cell_type": "code",
   "execution_count": 10,
   "metadata": {},
   "outputs": [],
   "source": [
    "def binary_to_text(binary):\n",
    "    # Split the binary string into 8-bit chunks\n",
    "    chunks = [binary[i:i+8] for i in range(0, len(binary), 8)]\n",
    "\n",
    "    # Convert each chunk to its corresponding ASCII character\n",
    "    chars = [ascii_to_char(binary_to_int(chunk)) for chunk in chunks]\n",
    "\n",
    "\n",
    "    # Join the characters into a single string\n",
    "    return ''.join(chars)"
   ]
  },
  {
   "cell_type": "code",
   "execution_count": 11,
   "metadata": {},
   "outputs": [],
   "source": [
    "def ascii_to_text(ascii):\n",
    "    # Split the ASCII string into individual codes\n",
    "    codes = ascii.split()\n",
    "\n",
    "    # Convert each code to its corresponding character\n",
    "    chars = [ascii_to_char(int(code)) for code in codes]\n",
    "\n",
    "    # Join the characters into a single string\n",
    "    return ''.join(chars)"
   ]
  },
  {
   "cell_type": "code",
   "execution_count": 14,
   "metadata": {},
   "outputs": [],
   "source": [
    "def detect_base(string):\n",
    "\n",
    "    string=str(string)\n",
    "    string1=string\n",
    "    string=string.replace(\" \",\"\")\n",
    "        # Check if the input string is a valid binary string\n",
    "    if set(string) <= {'0', '1'}:\n",
    "        \n",
    "        print(\"The given string is binary encoded string\")\n",
    "        a=(\"The decoded value of the binary string is :\"+binary_to_text(string))\n",
    "        return a\n",
    "    \n",
    "    \n",
    "    try:\n",
    "        #Checking if the input string is a valid hexadecimal string\n",
    "        decode_hex(string)\n",
    "        \n",
    "        print(\"The given string is hexadecimal string\")\n",
    "        result=(\"The decoded value of the hexadecimal string is :\"+decode_hex(string))\n",
    "        return result\n",
    "    except (ValueError, AttributeError,KeyError):\n",
    "      \n",
    "        pass\n",
    "   \n",
    "    \n",
    "    try:\n",
    "        #Check if the input string is a valid BASE64 string\n",
    "        \n",
    "        decode_base64(string)\n",
    "        \n",
    "\n",
    "        print(\"The given string is BASE64 string\")\n",
    "        result=(\"The decoded value of the BASE64 string is :\"+decode_base64(string))\n",
    "        return result\n",
    "        \n",
    "    except (ValueError, AttributeError,KeyError):\n",
    "        \n",
    "        pass\n",
    "\n",
    "\n",
    "    # If none of the above conditions are met, assume the input string is in ASCII format\n",
    "    \n",
    "\n",
    "\n",
    "    result1 = \"The given string is ASCII encoded string. \"\n",
    "    result2 = \"The decoded value of the ASCII string is: \" + ascii_to_text(string1)\n",
    "    return result1 + result2\n"
   ]
  },
  {
   "cell_type": "code",
   "execution_count": 23,
   "metadata": {},
   "outputs": [
    {
     "name": "stdout",
     "output_type": "stream",
     "text": [
      "The given string is binary encoded string\n"
     ]
    },
    {
     "data": {
      "text/plain": [
       "'The decoded value of the binary string is :Hello, world'"
      ]
     },
     "execution_count": 23,
     "metadata": {},
     "output_type": "execute_result"
    }
   ],
   "source": [
    "# Intaking string to decode\n",
    "string=input(\"Enter the string to be decoded\")\n",
    "detect_base(string)"
   ]
  },
  {
   "cell_type": "code",
   "execution_count": null,
   "metadata": {},
   "outputs": [],
   "source": []
  }
 ],
 "metadata": {
  "kernelspec": {
   "display_name": "Python 3",
   "language": "python",
   "name": "python3"
  },
  "language_info": {
   "codemirror_mode": {
    "name": "ipython",
    "version": 3
   },
   "file_extension": ".py",
   "mimetype": "text/x-python",
   "name": "python",
   "nbconvert_exporter": "python",
   "pygments_lexer": "ipython3",
   "version": "3.11.1"
  },
  "orig_nbformat": 4
 },
 "nbformat": 4,
 "nbformat_minor": 2
}
